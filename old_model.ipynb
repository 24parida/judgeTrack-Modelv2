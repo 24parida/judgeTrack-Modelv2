{
 "cells": [
  {
   "cell_type": "code",
   "execution_count": 68,
   "id": "021f7ce0",
   "metadata": {},
   "outputs": [],
   "source": [
    "from nltk.corpus import stopwords\n",
    "import re\n",
    "import pandas as pd\n",
    "df = pd.read_csv('paradigms_balanced.csv')\n",
    "from sklearn.feature_extraction.text import CountVectorizer, TfidfVectorizer\n",
    "from sklearn.metrics import accuracy_score"
   ]
  },
  {
   "cell_type": "code",
   "execution_count": 69,
   "id": "2daa820f",
   "metadata": {},
   "outputs": [],
   "source": [
    "df.drop_duplicates(inplace=True)"
   ]
  },
  {
   "cell_type": "code",
   "execution_count": 70,
   "id": "da4c66b7",
   "metadata": {},
   "outputs": [
    {
     "name": "stderr",
     "output_type": "stream",
     "text": [
      "[nltk_data] Downloading package stopwords to\n",
      "[nltk_data]     C:\\Users\\Owner\\AppData\\Roaming\\nltk_data...\n",
      "[nltk_data]   Package stopwords is already up-to-date!\n"
     ]
    }
   ],
   "source": [
    "import nltk\n",
    "nltk.download('stopwords')\n",
    "from nltk.corpus import stopwords"
   ]
  },
  {
   "cell_type": "code",
   "execution_count": 71,
   "id": "f0bb8e6f",
   "metadata": {},
   "outputs": [],
   "source": [
    "STOPWORDS = set(stopwords.words('english'))"
   ]
  },
  {
   "cell_type": "code",
   "execution_count": 95,
   "id": "e985802e",
   "metadata": {},
   "outputs": [],
   "source": [
    "special_character_remover = re.compile('[/(){}\\[\\]\\|@,;]')\n",
    "extra_symbol_remover = re.compile('[^0-9a-z #+_â€™œ]')\n",
    "extraWords = ('debate', 'dont', 'arguements', 'round', 'evidence', 'please', 'im', 'arguement', 'make', 'like', 'time', 'good', 'vote', 'want', 'speech', 'think', 'also', 'read', '...', \n",
    "'one')\n",
    "extrawordsTwo = ('arguements', 'arguement', 'judge', 'opponents', 'case', 'need', 'important', 'youre', 'go', 'know', 'well', 'would', 'give', 'get', 'ill', 'something', 'going' ,'topic', 'high', 'better', 'judging', 'things', 'debates', 'really', 'sure')\n",
    "extrawordsThree = ('arguments', 'argument', 'win', 'understand', 'debaters', 'teams', 'probably', 'much', 'evaluate', 'way', 'say', 'use', 'try', 'Id', 'even')\n",
    "extrawordsFour = ('ask', 'questions', '1', 'said', 'feel', 'fine', 'believe', 'speaking', 'speak', 'speeches')\n",
    "extraWordsFive =('3', '2', 'long', 'bad', 'forum', 'still', 'lot', 'must', 'second', 'best', 'wont', 'first')\n",
    "extraWordsSix=('etc', 'doesnt', 'see', 'unless', 'always', 'however', 'anything')\n",
    "extraWordsSeven = ('tell', 'reading')\n",
    "extraWordsEight = ('prefer', '4', 'fun', 'focus', 'school')\n",
    "cleanWords = ('aff', 'take', 'rounds', 'point', 'take', 'may', 'keep', 'thats', 'since', 'last', 'based', 'generally', 'ive', 'cant', 'people', 'people' ,'makes', 'able', 'pretty', 'isnt', 'usually', 'without', 'end', 'work', 'free', 'likely', 'general', 'though', 'makes', 'without', 'end', 'love', 'possible', 'thats')"
   ]
  },
  {
   "cell_type": "code",
   "execution_count": 96,
   "id": "3015dcef",
   "metadata": {},
   "outputs": [],
   "source": [
    "def clean_text(text):\n",
    "    text = text.lower()\n",
    "    text = special_character_remover.sub(' ', text)\n",
    "    text = extra_symbol_remover.sub('', text)\n",
    "    text = ' '.join(word for word in text.split() if word not in STOPWORDS)\n",
    "    text = ' '.join(word for word in text.split() if word not in extraWords)\n",
    "    text = ' '.join(word for word in text.split() if word not in extrawordsTwo)\n",
    "    text = ' '.join(word for word in text.split() if word not in extrawordsThree)\n",
    "    text = ' '.join(word for word in text.split() if word not in extrawordsFour)\n",
    "    text = ' '.join(word for word in text.split() if word not in extraWordsFive)\n",
    "    text = ' '.join(word for word in text.split() if word not in extraWordsSix)\n",
    "    text = ' '.join(word for word in text.split() if word not in extraWordsSeven)\n",
    "    text = ' '.join(word for word in text.split() if word not in extraWordsEight)\n",
    "    text = ' '.join(word for word in text.split() if word not in cleanWords)\n",
    "\n",
    "    return text\n",
    "    \n",
    "df['Paradigms'] = df['Paradigms'].apply(clean_text)"
   ]
  },
  {
   "cell_type": "code",
   "execution_count": 97,
   "id": "2aad99f4",
   "metadata": {},
   "outputs": [
    {
     "name": "stdout",
     "output_type": "stream",
     "text": [
      "47613\n"
     ]
    }
   ],
   "source": [
    "print(df['Paradigms'].apply(lambda x: len(x.split(' '))).sum())"
   ]
  },
  {
   "cell_type": "code",
   "execution_count": 98,
   "id": "ef1e47d7",
   "metadata": {},
   "outputs": [],
   "source": [
    "from sklearn.model_selection import train_test_split\n",
    "X = df.Paradigms\n",
    "y = df.JudgingType\n",
    "X_train, X_test, y_train, y_test = train_test_split(X, y, test_size=0.3, random_state = 42)"
   ]
  },
  {
   "cell_type": "code",
   "execution_count": 99,
   "id": "c937458d",
   "metadata": {},
   "outputs": [
    {
     "data": {
      "text/plain": [
       "((213,), (92,), (213,), (92,))"
      ]
     },
     "execution_count": 99,
     "metadata": {},
     "output_type": "execute_result"
    }
   ],
   "source": [
    "X_train.shape,X_test.shape,y_train.shape,y_test.shape"
   ]
  },
  {
   "cell_type": "code",
   "execution_count": 100,
   "id": "3e2c25a7",
   "metadata": {
    "scrolled": true
   },
   "outputs": [
    {
     "name": "stderr",
     "output_type": "stream",
     "text": [
      "C:\\Users\\Owner\\anaconda3\\lib\\site-packages\\xgboost\\sklearn.py:1224: UserWarning: The use of label encoder in XGBClassifier is deprecated and will be removed in a future release. To remove this warning, do the following: 1) Pass option use_label_encoder=False when constructing XGBClassifier object; and 2) Encode your labels (y) as integers starting with 0, i.e. 0, 1, 2, ..., [num_class - 1].\n",
      "  warnings.warn(label_encoder_deprecation_msg, UserWarning)\n"
     ]
    },
    {
     "name": "stdout",
     "output_type": "stream",
     "text": [
      "[12:16:52] WARNING: C:/Users/Administrator/workspace/xgboost-win64_release_1.5.1/src/learner.cc:1115: Starting in XGBoost 1.3.0, the default evaluation metric used with the objective 'multi:softprob' was changed from 'merror' to 'mlogloss'. Explicitly set eval_metric if you'd like to restore the old behavior.\n",
      "accuracy 0.6956521739130435\n"
     ]
    }
   ],
   "source": [
    "from sklearn.naive_bayes import MultinomialNB\n",
    "from sklearn.pipeline import Pipeline\n",
    "from sklearn.feature_extraction.text import TfidfTransformer\n",
    "from sklearn.linear_model import LogisticRegression\n",
    "from xgboost import XGBClassifier\n",
    "\n",
    "\n",
    "\n",
    "naivebayes = Pipeline([('vect', CountVectorizer()),\n",
    "               ('tfidf', TfidfTransformer()),\n",
    "               ('clf', LogisticRegression()),\n",
    "              ])\n",
    "naivebayes.fit(X_train, y_train)\n",
    "\n",
    "y_pred = naivebayes.predict(X_test)\n",
    "\n",
    "print(f'accuracy {accuracy_score(y_pred,y_test)}')"
   ]
  },
  {
   "cell_type": "code",
   "execution_count": 88,
   "id": "0862d506",
   "metadata": {},
   "outputs": [
    {
     "data": {
      "image/png": "[encoded data removed]",
      "text/plain": [
       "<Figure size 432x288 with 2 Axes>"
      ]
     },
     "metadata": {
      "needs_background": "light"
     },
     "output_type": "display_data"
    }
   ],
   "source": [
    "import matplotlib.pyplot as plt\n",
    "from sklearn.datasets import make_classification\n",
    "from sklearn.metrics import plot_confusion_matrix\n",
    "plot_confusion_matrix(naivebayes, X_test, y_test)  \n",
    "plt.show()"
   ]
  },
  {
   "cell_type": "code",
   "execution_count": 19,
   "id": "bef7b2e2",
   "metadata": {},
   "outputs": [],
   "source": [
    "import joblib\n",
    "with open('final_model.joblib', 'wb') as f:\n",
    "    joblib.dump(naivebayes,f)"
   ]
  },
  {
   "cell_type": "code",
   "execution_count": 67,
   "id": "76bb79f4",
   "metadata": {},
   "outputs": [
    {
     "name": "stdout",
     "output_type": "stream",
     "text": [
      "[1 2]\n"
     ]
    }
   ],
   "source": [
    "print(naivebayes.predict(['I am a tech judge', 'flow arguements offense']))"
   ]
  },
  {
   "cell_type": "code",
   "execution_count": null,
   "id": "2a9a9af8",
   "metadata": {},
   "outputs": [],
   "source": []
  },
  {
   "cell_type": "code",
   "execution_count": 25,
   "id": "d42b6914",
   "metadata": {},
   "outputs": [],
   "source": []
  },
  {
   "cell_type": "code",
   "execution_count": 89,
   "id": "d97360e8",
   "metadata": {},
   "outputs": [
    {
     "name": "stderr",
     "output_type": "stream",
     "text": [
      "[nltk_data] Downloading package punkt to\n",
      "[nltk_data]     C:\\Users\\Owner\\AppData\\Roaming\\nltk_data...\n",
      "[nltk_data]   Package punkt is already up-to-date!\n"
     ]
    },
    {
     "name": "stdout",
     "output_type": "stream",
     "text": [
      "7792\n",
      "['theory', 'flow', 'pf', 'impact', 'weighing', 'team', 'summary', 'policy', 'aff', 'speaks', 'clear', 'rebuttal', 'weigh', 'k', 'final', 'points', 'email', 'speed', 'framework', 'years', 'cards', 'extend', 'run', 'explain', 'ld', 'link', 'new', 'defense', 'speaker', 'paradigm', 'public', 'ballot', 'chain', 'card', 'ks', 'rounds', 'clearly', 'impacts', 'offense', 'means', 'prep', 'analysis', 'point', 'take', 'turns', 'fast', 'specific', 'may', 'keep', 'warrant', 'every', 'especially', 'find', 'call', 'everything', 'warrants', 'neg', 'experience', 'look', 'args', 'dropped', 'based', 'generally', 'ive', 'decision', 'cant', 'debated', 'people', 'affs', 'gmailcom', 'makes', 'able', 'pretty', 'progressive', 'isnt', 'debating', 'usually', 'without', 'activity', 'end', 'debater', 'work', 'free', 'clash', 'cross', 'likely', 'though', 'general', 'drop', 'links', 'tech', 'possible', 'love', 'voting', 'plan', 'thats', 'mean', 'side', 'since', 'less']\n"
     ]
    }
   ],
   "source": [
    "import nltk\n",
    "nltk.download('punkt')\n",
    "from nltk.tokenize import word_tokenize\n",
    "paradigms = df.Paradigms.str.cat(sep=' ')\n",
    "#function to split text into word\n",
    "tokens = word_tokenize(paradigms)\n",
    "vocabulary = set(tokens)\n",
    "print(len(vocabulary))\n",
    "frequency_dist = nltk.FreqDist(tokens)\n",
    "print(sorted(frequency_dist,key=frequency_dist.__getitem__, reverse=True)[0:100])"
   ]
  },
  {
   "cell_type": "code",
   "execution_count": null,
   "id": "22216e3b",
   "metadata": {},
   "outputs": [],
   "source": []
  }
 ],
 "metadata": {
  "kernelspec": {
   "display_name": "Python 3 (ipykernel)",
   "language": "python",
   "name": "python3"
  },
  "language_info": {
   "codemirror_mode": {
    "name": "ipython",
    "version": 3
   },
   "file_extension": ".py",
   "mimetype": "text/x-python",
   "name": "python",
   "nbconvert_exporter": "python",
   "pygments_lexer": "ipython3",
   "version": "3.9.7"
  }
 },
 "nbformat": 4,
 "nbformat_minor": 5
}
